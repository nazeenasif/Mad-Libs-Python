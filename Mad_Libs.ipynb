{
  "nbformat": 4,
  "nbformat_minor": 0,
  "metadata": {
    "colab": {
      "provenance": [],
      "gpuType": "T4",
      "authorship_tag": "ABX9TyO3vxxoEzTakhagcteiNutP",
      "include_colab_link": true
    },
    "kernelspec": {
      "name": "python3",
      "display_name": "Python 3"
    },
    "language_info": {
      "name": "python"
    }
  },
  "cells": [
    {
      "cell_type": "markdown",
      "metadata": {
        "id": "view-in-github",
        "colab_type": "text"
      },
      "source": [
        "<a href=\"https://colab.research.google.com/github/nazeenasif/Mad-Libs-Python/blob/main/Mad_Libs.ipynb\" target=\"_parent\"><img src=\"https://colab.research.google.com/assets/colab-badge.svg\" alt=\"Open In Colab\"/></a>"
      ]
    },
    {
      "cell_type": "code",
      "source": [
        "# A Fun Word Game (Mad Libs)\n",
        "def mad_libs():\n",
        "    print(\"Welcome to the Mad Libs Game! 🎉\")\n",
        "    print(\"Fill in the blanks to generate a humorous story.\")\n",
        "\n",
        "    # Get input from users\n",
        "    food = input(\"Enter a food dish: \")\n",
        "    adverb = input(\"Enter an adverb: \")\n",
        "    appliance = input(\"Enter a kitchen appliance: \")\n",
        "    verb = input(\"Enter a verb ending in -ing: \")\n",
        "    profession = input(\"Enter a profession: \")\n",
        "    member = input(\"Enter any family member: \")\n",
        "    restaurant = input(\"Enter any restaurant: \")\n",
        "\n",
        "    # Generate the Mad Libs story\n",
        "    story = f\"\"\"You decided to cook {food} for dinner.\n",
        "You followed the recipe {adverb}, but something went wrong.\n",
        "Suddenly, the {appliance} started {verb}!\n",
        "You panicked and yelled, \"Someone call a {profession}!\"\n",
        "Your {member} walked in, took one look, and said,\n",
        "\"I think we’re ordering {restaurant} tonight.\" \"\"\"\n",
        "\n",
        "    print(\"\\nHere is your Mad Libs story:\\n\")\n",
        "    print(story)\n",
        "\n",
        "mad_libs()\n"
      ],
      "metadata": {
        "id": "VJTo_gOWenc7"
      },
      "execution_count": null,
      "outputs": []
    }
  ]
}