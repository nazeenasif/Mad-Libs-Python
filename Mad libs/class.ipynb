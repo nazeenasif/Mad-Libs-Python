{
 "cells": [
  {
   "cell_type": "code",
   "execution_count": 1,
   "metadata": {},
   "outputs": [
    {
     "name": "stdout",
     "output_type": "stream",
     "text": [
      "Welcome to the Mad Libs Game! 🎉\n",
      "Fill in the blanks to generate a humorous story.\n",
      "\n",
      "Here is your Mad Libs story:\n",
      "\n",
      "You decided to cook pasta for dinner.\n",
      "You followed the recipe carefully, but something went wrong.\n",
      "Suddenly, the spoon started walking!\n",
      "You panicked and yelled, \"Someone call a driver!\"\n",
      "Your mother walked in, took one look, and said,\n",
      "\"I think we’re ordering daily foods tonight.\" \n"
     ]
    }
   ],
   "source": [
    "# A Fun Word Game (Mad Libs)\n",
    "def mad_libs():\n",
    "    print(\"Welcome to the Mad Libs Game! 🎉\")\n",
    "    print(\"Fill in the blanks to generate a humorous story.\")\n",
    "\n",
    "    # Get input from users\n",
    "    food = input(\"Enter a food dish: \")\n",
    "    adverb = input(\"Enter an adverb: \")\n",
    "    appliance = input(\"Enter a kitchen appliance: \")\n",
    "    verb = input(\"Enter a verb ending in -ing: \")\n",
    "    profession = input(\"Enter a profession: \")\n",
    "    member = input(\"Enter any family member: \")\n",
    "    restaurant = input(\"Enter any restaurant: \")\n",
    "\n",
    "    # Generate the Mad Libs story\n",
    "    story = f\"\"\"You decided to cook {food} for dinner.\n",
    "You followed the recipe {adverb}, but something went wrong.\n",
    "Suddenly, the {appliance} started {verb}!\n",
    "You panicked and yelled, \"Someone call a {profession}!\"\n",
    "Your {member} walked in, took one look, and said,\n",
    "\"I think we’re ordering {restaurant} tonight.\"😅😂 \"\"\"\n",
    "\n",
    "    print(\"\\nHere is your Mad Libs story:\\n\")\n",
    "    print(story)\n",
    "\n",
    "mad_libs()\n"
   ]
  }
 ],
 "metadata": {
  "kernelspec": {
   "display_name": "Python 3",
   "language": "python",
   "name": "python3"
  },
  "language_info": {
   "codemirror_mode": {
    "name": "ipython",
    "version": 3
   },
   "file_extension": ".py",
   "mimetype": "text/x-python",
   "name": "python",
   "nbconvert_exporter": "python",
   "pygments_lexer": "ipython3",
   "version": "3.13.0"
  }
 },
 "nbformat": 4,
 "nbformat_minor": 2
}
